{
 "cells": [
  {
   "cell_type": "markdown",
   "id": "1badac87",
   "metadata": {},
   "source": [
    "# Sentiment Analysis\n",
    "We will be doing a sentiment analysis on the Tweets about SIA"
   ]
  },
  {
   "cell_type": "markdown",
   "id": "3dd435e6",
   "metadata": {},
   "source": [
    "## Scrap Twitter for SIA Sentiments\n",
    "We will be using the scraperapi to scrap Tweets for the query text. \n",
    "\n",
    "Do note that the api is a free tier with limited access so use the generated JSON before re-running and only run when there is a need for it."
   ]
  },
  {
   "cell_type": "code",
   "execution_count": null,
   "id": "313d8094",
   "metadata": {},
   "outputs": [],
   "source": [
    "import requests\n",
    "import pandas as pd"
   ]
  },
  {
   "cell_type": "code",
   "execution_count": 13,
   "id": "cba4152f",
   "metadata": {},
   "outputs": [],
   "source": [
    "twitter_data = []\n",
    "\n",
    "payload = {\n",
    "   'api_key': '<add your api key here>',\n",
    "   'query': 'singapore airline',\n",
    "   'num': '100'\n",
    "}"
   ]
  },
  {
   "cell_type": "code",
   "execution_count": 14,
   "id": "e5b0e70e",
   "metadata": {},
   "outputs": [],
   "source": [
    "response = requests.get(\n",
    "   'https://api.scraperapi.com/structured/twitter/search', params=payload)\n",
    "data = response.json()"
   ]
  },
  {
   "cell_type": "code",
   "execution_count": 15,
   "id": "6b46dc60",
   "metadata": {},
   "outputs": [],
   "source": [
    "all_tweets = data['tweets']\n",
    "for tweet in all_tweets:\n",
    "   twitter_data.append({\n",
    "       'ID': tweet['tweet_id'],\n",
    "       'User': tweet[\"user\"],\n",
    "       'Tweet': tweet[\"text\"],\n",
    "       'URL': tweet[\"link\"]\n",
    "   })"
   ]
  },
  {
   "cell_type": "code",
   "execution_count": 16,
   "id": "67288121",
   "metadata": {},
   "outputs": [
    {
     "name": "stdout",
     "output_type": "stream",
     "text": [
      "Tweets exported to JSON\n"
     ]
    }
   ],
   "source": [
    "df = pd.DataFrame(twitter_data)\n",
    "df.to_json('sia_tweets.json', orient='index')\n",
    "print('Tweets exported to JSON')"
   ]
  },
  {
   "cell_type": "markdown",
   "id": "c54425b7",
   "metadata": {},
   "source": [
    "## Convert JSON"
   ]
  },
  {
   "cell_type": "code",
   "execution_count": 17,
   "id": "4d5a0495",
   "metadata": {},
   "outputs": [],
   "source": [
    "import json"
   ]
  },
  {
   "cell_type": "code",
   "execution_count": 19,
   "id": "cc1737bc",
   "metadata": {},
   "outputs": [],
   "source": [
    "with open('sia_tweets.json', 'r') as file:\n",
    "    data = json.load(file)"
   ]
  },
  {
   "cell_type": "code",
   "execution_count": 26,
   "id": "4d272336",
   "metadata": {},
   "outputs": [],
   "source": [
    "tweet_texts = []\n",
    "\n",
    "for tweet_id, tweet_data in data.items():\n",
    "    text = tweet_data['Tweet']\n",
    "    tweet_texts.append(text)"
   ]
  },
  {
   "cell_type": "code",
   "execution_count": 30,
   "id": "dbbc020c",
   "metadata": {},
   "outputs": [
    {
     "name": "stdout",
     "output_type": "stream",
     "text": [
      "Collecting textblob\n",
      "  Downloading textblob-0.17.1-py2.py3-none-any.whl (636 kB)\n",
      "     ------------------------------------- 636.8/636.8 kB 13.3 MB/s eta 0:00:00\n",
      "Requirement already satisfied: nltk>=3.1 in c:\\users\\user\\anaconda3\\lib\\site-packages (from textblob) (3.7)\n",
      "Requirement already satisfied: click in c:\\users\\user\\anaconda3\\lib\\site-packages (from nltk>=3.1->textblob) (8.0.4)\n",
      "Requirement already satisfied: regex>=2021.8.3 in c:\\users\\user\\anaconda3\\lib\\site-packages (from nltk>=3.1->textblob) (2022.7.9)\n",
      "Requirement already satisfied: tqdm in c:\\users\\user\\anaconda3\\lib\\site-packages (from nltk>=3.1->textblob) (4.64.1)\n",
      "Requirement already satisfied: joblib in c:\\users\\user\\anaconda3\\lib\\site-packages (from nltk>=3.1->textblob) (1.1.1)\n",
      "Requirement already satisfied: colorama in c:\\users\\user\\anaconda3\\lib\\site-packages (from click->nltk>=3.1->textblob) (0.4.6)\n",
      "Installing collected packages: textblob\n",
      "Successfully installed textblob-0.17.1\n"
     ]
    }
   ],
   "source": [
    "!pip install textblob"
   ]
  },
  {
   "cell_type": "code",
   "execution_count": 31,
   "id": "73449e7c",
   "metadata": {},
   "outputs": [],
   "source": [
    "from textblob import TextBlob"
   ]
  },
  {
   "cell_type": "code",
   "execution_count": 32,
   "id": "6f1546f9",
   "metadata": {},
   "outputs": [],
   "source": [
    "sentiments = []\n",
    "\n",
    "for text in tweet_texts:\n",
    "    blob = TextBlob(text)\n",
    "    sentiment = blob.sentiment.polarity\n",
    "    sentiments.append(sentiment)"
   ]
  },
  {
   "cell_type": "code",
   "execution_count": 33,
   "id": "4c469c71",
   "metadata": {},
   "outputs": [
    {
     "name": "stdout",
     "output_type": "stream",
     "text": [
      "[-0.5, 0.0909090909090909, 0.0, 0.0, 0.24675324675324675, 0.0, 0.0, -0.6024999999999999, 0.0, 0.5, 0.0, 0.65, 0.11818181818181818, -0.19, 0.0, 0.0, 0.0, -0.175, 0.0, 0.0, 0.0, 0.0, 0.13636363636363635, 0.0, 0.19318181818181818, 0.0, 0.0, 0.21153846153846154, 0.75, 0.0, 0.13636363636363635, -0.5, 0.0, 0.0, 0.0, -0.3, -0.19999999999999996, 0.1, 0.0, 0.0, -0.19999999999999996, 0.0, 0.0, 0.125, 0.5, 0.0, 0.0, -0.125, 0.0, -0.03333333333333334, -0.1, 0.0, 0.1, -0.4, 0.0, -0.5, 0.0, 0.0, 0.13636363636363635, 0.0, 0.375, -0.5, 0.0, -0.1, 0.0, -0.0625, -0.390625, 0.4681818181818182, 0.7, 0.0, 0.0, 0.0, 0.0, -0.19999999999999996, 0.0, 0.0, 0.06818181818181818, 0.0, 0.0, 0.0, 0.0, 0.3958333333333333, -0.1, 0.0, -0.2, 0.0, 0.0, 0.0, 0.24000000000000002, 0.4125, 0.0, 0.2, 0.0]\n"
     ]
    }
   ],
   "source": [
    "print(sentiments)"
   ]
  },
  {
   "cell_type": "code",
   "execution_count": 34,
   "id": "4966db1d",
   "metadata": {},
   "outputs": [
    {
     "data": {
      "image/png": "[encoded data removed]",
      "text/plain": [
       "<Figure size 640x480 with 1 Axes>"
      ]
     },
     "metadata": {},
     "output_type": "display_data"
    }
   ],
   "source": [
    "import matplotlib.pyplot as plt\n",
    "from textblob import TextBlob\n",
    "\n",
    "# Plotting the histogram\n",
    "plt.hist(sentiments, bins=10, edgecolor='black')\n",
    "\n",
    "# Labeling the chart\n",
    "plt.title('Sentiment Polarity Distribution')\n",
    "plt.xlabel('Polarity Score')\n",
    "plt.ylabel('Frequency')\n",
    "\n",
    "# Displaying the chart\n",
    "plt.show()\n"
   ]
  },
  {
   "cell_type": "code",
   "execution_count": null,
   "id": "c193d3e5",
   "metadata": {},
   "outputs": [],
   "source": []
  }
 ],
 "metadata": {
  "kernelspec": {
   "display_name": "Python 3 (ipykernel)",
   "language": "python",
   "name": "python3"
  },
  "language_info": {
   "codemirror_mode": {
    "name": "ipython",
    "version": 3
   },
   "file_extension": ".py",
   "mimetype": "text/x-python",
   "name": "python",
   "nbconvert_exporter": "python",
   "pygments_lexer": "ipython3",
   "version": "3.10.9"
  }
 },
 "nbformat": 4,
 "nbformat_minor": 5
}
